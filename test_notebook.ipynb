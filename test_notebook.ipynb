{
  "nbformat": 4,
  "nbformat_minor": 0,
  "metadata": {
    "colab": {
      "name": "test_notebook.ipynb",
      "provenance": [],
      "authorship_tag": "ABX9TyMuPXCosNMzmLsOEZLErKmD"
    },
    "kernelspec": {
      "name": "python3",
      "display_name": "Python 3"
    }
  },
  "cells": [
    {
      "cell_type": "markdown",
      "metadata": {
        "id": "S1afHVO6cQkd"
      },
      "source": [
        "# Welcome to your first Google Colaboratory notebook!\n",
        "\n",
        "\"Colab\" allows you to write and execute Python in your browser, with zero configuration.\n",
        "\n",
        "A **Colab notebook** is an interactive environment where you can write text as inthe *text cell* you are reading, or writing and executing code as in the following cell:"
      ]
    },
    {
      "cell_type": "code",
      "metadata": {
        "id": "zZnNOPeXdLUh",
        "outputId": "d23ba175-f74b-4d08-dbb2-8551a0e3703d",
        "colab": {
          "base_uri": "https://localhost:8080/"
        }
      },
      "source": [
        "# click the arrow on the left to run the code\n",
        "\n",
        "print(\"Hello, Monica!\")"
      ],
      "execution_count": 2,
      "outputs": [
        {
          "output_type": "stream",
          "name": "stdout",
          "text": [
            "Hello, Monica!\n"
          ]
        }
      ]
    },
    {
      "cell_type": "markdown",
      "metadata": {
        "id": "mh3tqI-VdYhV"
      },
      "source": [
        "Feel free to change this notebook: change/add text and code cells.\n",
        "\n",
        "When you are done store the notebook back to GitHub."
      ]
    }
  ]
}